{
 "cells": [
  {
   "cell_type": "code",
   "execution_count": 1,
   "id": "cc3debf2",
   "metadata": {},
   "outputs": [],
   "source": [
    "import numpy as np\n",
    "import torch"
   ]
  },
  {
   "cell_type": "markdown",
   "id": "3b37c16a",
   "metadata": {},
   "source": [
    "## using vectors in numpy an pytorch"
   ]
  },
  {
   "cell_type": "code",
   "execution_count": 2,
   "id": "3d533802",
   "metadata": {},
   "outputs": [],
   "source": [
    "v = np.array([\n",
    "   0.11, 0.01, 0.98, 0.12, 0.98,\n",
    "   0.85, 0.03, 0.55, 0.49, 0.99,\n",
    "   0.02, 0.31, 0.55, 0.87, 0.63, \n",
    "])"
   ]
  },
  {
   "cell_type": "code",
   "execution_count": 6,
   "id": "6a9d0367",
   "metadata": {},
   "outputs": [],
   "source": [
    "first_element = v[0]\n",
    "last = v[-1]\n",
    "\n",
    "second_to_fifth_elements = v[1:4]\n",
    "\n",
    "first_to_third_elements = v[:2]\n",
    "last_two_elements = v[-2:]\n",
    "\n",
    "num_elements_in_v = len(v)"
   ]
  },
  {
   "cell_type": "code",
   "execution_count": 7,
   "id": "1d1225f8",
   "metadata": {},
   "outputs": [],
   "source": [
    "# torch tensor represents a multi-dimensional array.\n",
    "# a vector is a 1D tensor\n",
    "# it can be initialized by directly specifying values\n",
    "u = torch.tensor([\n",
    "   0.11, 0.01, 0.98, 0.12, 0.98,\n",
    "   0.85, 0.03, 0.55, 0.49, 0.99,\n",
    "   0.02, 0.31, 0.55, 0.87, 0.63, \n",
    "])"
   ]
  },
  {
   "cell_type": "code",
   "execution_count": 13,
   "id": "f5fd2ebd",
   "metadata": {},
   "outputs": [],
   "source": [
    "v1 = torch.from_numpy(v)\n",
    "\n",
    "# difference between the tensors\n",
    "diff = v1.sub(u)\n",
    "\n",
    "# transform tensor to numpy\n",
    "u1 = u.numpy()"
   ]
  },
  {
   "cell_type": "markdown",
   "id": "ce15de74",
   "metadata": {},
   "source": [
    "## matrices"
   ]
  },
  {
   "cell_type": "code",
   "execution_count": 14,
   "id": "3b3b87f0",
   "metadata": {},
   "outputs": [],
   "source": [
    "x = np.array([\n",
    "    [0.11, 0.09], [0.01, 0.02], [0.98, 0.91],\n",
    "    [0.12, 0.21], [0.98, 0.99], [0.85, 0.87],\n",
    "    [0.03, 0.14], [0.55, 0.45], [0.49, 0.51],\n",
    "    [0.99, 0.01], [0.02, 0.89], [0.31, 0.47],\n",
    "    [0.55, 0.29], [0.87, 0.76], [0.63, 0.24]\n",
    "])"
   ]
  },
  {
   "cell_type": "code",
   "execution_count": 17,
   "id": "8a26b248",
   "metadata": {},
   "outputs": [
    {
     "data": {
      "text/plain": [
       "(15, 2)"
      ]
     },
     "execution_count": 17,
     "metadata": {},
     "output_type": "execute_result"
    }
   ],
   "source": [
    "# 15 x 2 matrix. 15 rows 2 columns.\n",
    "x.shape"
   ]
  },
  {
   "cell_type": "code",
   "execution_count": 18,
   "id": "610b48a7",
   "metadata": {},
   "outputs": [],
   "source": [
    "first_element = x[0, 0]"
   ]
  },
  {
   "cell_type": "code",
   "execution_count": 20,
   "id": "ba912917",
   "metadata": {},
   "outputs": [
    {
     "data": {
      "text/plain": [
       "array([0.01, 0.02])"
      ]
     },
     "execution_count": 20,
     "metadata": {},
     "output_type": "execute_result"
    }
   ],
   "source": [
    "row_0 = x[0, :]\n",
    "row_1 = x[1, 0:2]\n",
    "column_0 = x[:, 0]\n",
    "column_1 = x[:, 1]\n",
    "row_1"
   ]
  },
  {
   "cell_type": "markdown",
   "id": "179a82c2",
   "metadata": {},
   "source": [
    "## matrix inverse for invertible matrix (non-zero determinant)"
   ]
  },
  {
   "cell_type": "code",
   "execution_count": 23,
   "id": "08997df6",
   "metadata": {},
   "outputs": [],
   "source": [
    "def determinant(A):\n",
    "    return np.linalg.det(A)\n",
    "\n",
    "def inverse(A):\n",
    "    return np.linalg.inv(A)\n",
    "\n",
    "A = np.array([[2, 3], [2, 2]], dtype = np.uint8)\n",
    "A_inv = inverse(A)"
   ]
  },
  {
   "cell_type": "code",
   "execution_count": 24,
   "id": "96ecec50",
   "metadata": {},
   "outputs": [],
   "source": [
    "I = np.eye(2) # make identity matrix, 2x2"
   ]
  },
  {
   "cell_type": "code",
   "execution_count": 27,
   "id": "2d9b681b",
   "metadata": {},
   "outputs": [],
   "source": [
    "# A mult by A_inv is the identity matrix\n",
    "assert np.all(np.matmul(A, A_inv) == I)"
   ]
  },
  {
   "cell_type": "code",
   "execution_count": 28,
   "id": "ee4026a2",
   "metadata": {},
   "outputs": [],
   "source": [
    "# A mult by Identity matrix A\n",
    "assert np.all(np.matmul(I, A) ==  A)\n",
    "assert np.all(A == np.matmul(A, I))"
   ]
  },
  {
   "cell_type": "code",
   "execution_count": 29,
   "id": "990b3355",
   "metadata": {},
   "outputs": [
    {
     "name": "stdout",
     "output_type": "stream",
     "text": [
      "B cannot be inverted: \n"
     ]
    }
   ],
   "source": [
    "B = np.array([[1, 1], [2, 2]], dtype=np.uint8)\n",
    "\n",
    "try:\n",
    "    B_inv = inverse(B)\n",
    "    # singular matrix, attempt to compute inverse causes python exception\n",
    "    # determinant not 0\n",
    "    B = determinant # 1 × 2 − 2 × 1 = 0.\n",
    "except np.linalg.LinAlgError as e:\n",
    "    print('B cannot be inverted: '.format(B, e))"
   ]
  },
  {
   "cell_type": "code",
   "execution_count": null,
   "id": "2244e774",
   "metadata": {},
   "outputs": [],
   "source": []
  }
 ],
 "metadata": {
  "kernelspec": {
   "display_name": "Python 3 (ipykernel)",
   "language": "python",
   "name": "python3"
  },
  "language_info": {
   "codemirror_mode": {
    "name": "ipython",
    "version": 3
   },
   "file_extension": ".py",
   "mimetype": "text/x-python",
   "name": "python",
   "nbconvert_exporter": "python",
   "pygments_lexer": "ipython3",
   "version": "3.11.5"
  }
 },
 "nbformat": 4,
 "nbformat_minor": 5
}
